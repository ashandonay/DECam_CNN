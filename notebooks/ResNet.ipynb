{
 "cells": [
  {
   "cell_type": "code",
   "execution_count": 1,
   "metadata": {},
   "outputs": [],
   "source": [
    "import numpy as np\n",
    "import pandas as pd\n",
    "import tensorflow as tf\n",
    "import h5py\n",
    "import os\n",
    "#from sklearn.preprocessing import MinMaxScaler\n",
    "from sklearn.metrics import roc_curve, auc\n",
    "import matplotlib.pyplot as plt\n",
    "from pycm import ConfusionMatrix\n",
    "import itertools\n",
    "\n",
    "os.environ[\"CUDA_VISIBLE_DEVICES\"]=\"0\""
   ]
  },
  {
   "cell_type": "code",
   "execution_count": 2,
   "metadata": {},
   "outputs": [
    {
     "name": "stdout",
     "output_type": "stream",
     "text": [
      "Keys: <KeysViewHDF5 ['Class_0']>\n",
      "Keys: <KeysViewHDF5 ['s200224ca']>\n",
      "Keys: <KeysViewHDF5 ['Class_1']>\n",
      "Keys: <KeysViewHDF5 ['Class_2']>\n",
      "Keys: <KeysViewHDF5 ['Class_3']>\n",
      "Keys: <KeysViewHDF5 ['Class_4']>\n",
      "Keys: <KeysViewHDF5 ['Class_5']>\n",
      "Keys: <KeysViewHDF5 ['Class_6']>\n"
     ]
    }
   ],
   "source": [
    "filename = 'TS__2020-06-25_18-02-56/Class_0_images.h5'\n",
    "\n",
    "with h5py.File(os.getcwd() + \"/\" + filename, \"r\") as f:\n",
    "    # List all groups\n",
    "    print(\"Keys: %s\" % f.keys())\n",
    "    a_group_key = list(f.keys())[0]\n",
    "\n",
    "    images = np.array(f[a_group_key])\n",
    "    \n",
    "    cut = round(3*len(images)/4)\n",
    "\n",
    "    X_train0_0 = ((images - np.mean(images,axis=(-1,-2),keepdims=True))/(10*np.std(images,axis=(-1,-2),keepdims=True)) + 0.5)[0:cut]\n",
    "    X_test0_0 = ((images - np.mean(images,axis=(-1,-2),keepdims=True))/(10*np.std(images,axis=(-1,-2),keepdims=True)) + 0.5)[cut:]\n",
    "    Y_train0_0 = np.zeros((X_train0_0.shape[0],1), dtype=\"float32\")\n",
    "    Y_test0_0 = np.zeros((X_test0_0.shape[0],1), dtype=\"float32\")\n",
    "    \n",
    "    \n",
    "filename = 'Real__20-07-11_21-31-43/s200224ca_images.h5'\n",
    "\n",
    "with h5py.File(os.getcwd() + \"/\" + filename, \"r\") as f:\n",
    "    # List all groups\n",
    "    print(\"Keys: %s\" % f.keys())\n",
    "    a_group_key = list(f.keys())[0]\n",
    "\n",
    "    images = np.array(f[a_group_key])\n",
    "\n",
    "    cut = round(3*len(images)/4)\n",
    "\n",
    "    X_train0_1 = ((images - np.mean(images,axis=(-1,-2),keepdims=True))/(10*np.std(images,axis=(-1,-2),keepdims=True)) + 0.5)[0:cut]\n",
    "    X_test0_1 = ((images - np.mean(images,axis=(-1,-2),keepdims=True))/(10*np.std(images,axis=(-1,-2),keepdims=True)) + 0.5)[cut:]\n",
    "    Y_train0_1 = np.zeros((X_train0_1.shape[0],1), dtype=\"float32\")\n",
    "    Y_test0_1 = np.zeros((X_test0_1.shape[0],1), dtype=\"float32\")\n",
    "    \n",
    "\n",
    "filename = 'TS__2020-06-25_18-02-56/Class_1_images.h5'\n",
    "\n",
    "with h5py.File(os.getcwd() + \"/\" + filename, \"r\") as f:\n",
    "    # List all groups\n",
    "    print(\"Keys: %s\" % f.keys())\n",
    "    a_group_key = list(f.keys())[0]\n",
    "\n",
    "    images = np.array(f[a_group_key])\n",
    "\n",
    "    X_train1 = ((images - np.mean(images,axis=(-1,-2),keepdims=True))/(10*np.std(images,axis=(-1,-2),keepdims=True)) + 0.5)[0:220]\n",
    "    X_test1 = ((images - np.mean(images,axis=(-1,-2),keepdims=True))/(10*np.std(images,axis=(-1,-2),keepdims=True)) + 0.5)[220:294]\n",
    "    Y_train1 = np.zeros((X_train1.shape[0],1), dtype=\"float32\")\n",
    "    Y_test1 = np.zeros((X_test1.shape[0],1), dtype=\"float32\")\n",
    "    \n",
    "    \n",
    "filename = 'TS__2020-06-25_18-02-56/Class_2_images.h5'\n",
    "\n",
    "with h5py.File(os.getcwd() + \"/\" + filename, \"r\") as f:\n",
    "    # List all groups\n",
    "    print(\"Keys: %s\" % f.keys())\n",
    "    a_group_key = list(f.keys())[0]\n",
    "\n",
    "    images = np.array(f[a_group_key])\n",
    "\n",
    "    X_train2 = ((images - np.mean(images,axis=(-1,-2),keepdims=True))/(10*np.std(images,axis=(-1,-2),keepdims=True)) + 0.5)[0:139]\n",
    "    X_test2 = ((images - np.mean(images,axis=(-1,-2),keepdims=True))/(10*np.std(images,axis=(-1,-2),keepdims=True)) + 0.5)[139:185]\n",
    "    Y_train2 = np.zeros((X_train2.shape[0],1), dtype=\"float32\")*2\n",
    "    Y_test2 = np.zeros((X_test2.shape[0],1), dtype=\"float32\")*2\n",
    "    \n",
    "    \n",
    "filename = 'TS__2020-06-25_18-02-56/Class_3_images.h5'\n",
    "\n",
    "with h5py.File(os.getcwd() + \"/\" + filename, \"r\") as f:\n",
    "    # List all groups\n",
    "    print(\"Keys: %s\" % f.keys())\n",
    "    a_group_key = list(f.keys())[0]\n",
    "\n",
    "    images = np.array(f[a_group_key])\n",
    "\n",
    "    X_train3 = ((images - np.mean(images,axis=(-1,-2),keepdims=True))/(10*np.std(images,axis=(-1,-2),keepdims=True)) + 0.5)[0:220]\n",
    "    X_test3 = ((images - np.mean(images,axis=(-1,-2),keepdims=True))/(10*np.std(images,axis=(-1,-2),keepdims=True)) + 0.5)[220:294]\n",
    "    Y_train3 = np.zeros((X_train3.shape[0],1), dtype=\"float32\")*3\n",
    "    Y_test3 = np.zeros((X_test3.shape[0],1), dtype=\"float32\")*3\n",
    "    \n",
    "    \n",
    "filename = 'TS__2020-06-25_18-02-56/Class_4_images.h5'\n",
    "\n",
    "with h5py.File(os.getcwd() + \"/\" + filename, \"r\") as f:\n",
    "    # List all groups\n",
    "    print(\"Keys: %s\" % f.keys())\n",
    "    a_group_key = list(f.keys())[0]\n",
    "\n",
    "    images = np.array(f[a_group_key])\n",
    "\n",
    "    X_train4 = ((images - np.mean(images,axis=(-1,-2),keepdims=True))/(10*np.std(images,axis=(-1,-2),keepdims=True)) + 0.5)[0:110]\n",
    "    X_test4 = ((images - np.mean(images,axis=(-1,-2),keepdims=True))/(10*np.std(images,axis=(-1,-2),keepdims=True)) + 0.5)[110:147]\n",
    "    Y_train4 = np.zeros((X_train4.shape[0],1), dtype=\"float32\")*4\n",
    "    Y_test4 = np.zeros((X_test4.shape[0],1), dtype=\"float32\")*4\n",
    "    \n",
    "filename = 'TS__2020-06-25_18-02-56/Class_5_images.h5'\n",
    "\n",
    "with h5py.File(os.getcwd() + \"/\" + filename, \"r\") as f:\n",
    "    # List all groups\n",
    "    print(\"Keys: %s\" % f.keys())\n",
    "    a_group_key = list(f.keys())[0]\n",
    "\n",
    "    images = np.array(f[a_group_key])\n",
    "\n",
    "    X_train5 = ((images - np.mean(images,axis=(-1,-2),keepdims=True))/(10*np.std(images,axis=(-1,-2),keepdims=True)) + 0.5)[0:110]\n",
    "    X_test5 = ((images - np.mean(images,axis=(-1,-2),keepdims=True))/(10*np.std(images,axis=(-1,-2),keepdims=True)) + 0.5)[110:147]\n",
    "    Y_train5 = np.zeros((X_train5.shape[0],1), dtype=\"float32\")*4\n",
    "    Y_test5 = np.zeros((X_test5.shape[0],1), dtype=\"float32\")*4\n",
    "    \n",
    "filename = 'TS__2020-06-25_18-02-56/Class_6_images.h5'\n",
    "\n",
    "with h5py.File(os.getcwd() + \"/\" + filename, \"r\") as f:\n",
    "    # List all groups\n",
    "    print(\"Keys: %s\" % f.keys())\n",
    "    a_group_key = list(f.keys())[0]\n",
    "\n",
    "    images = np.array(f[a_group_key])\n",
    "\n",
    "    X_train6 = ((images - np.mean(images,axis=(-1,-2),keepdims=True))/(10*np.std(images,axis=(-1,-2),keepdims=True)) + 0.5)[0:220]\n",
    "    X_test6 = ((images - np.mean(images,axis=(-1,-2),keepdims=True))/(10*np.std(images,axis=(-1,-2),keepdims=True)) + 0.5)[220:294]\n",
    "    Y_train6 = np.zeros((X_train6.shape[0],1), dtype=\"float32\")*5\n",
    "    Y_test6 = np.zeros((X_test6.shape[0],1), dtype=\"float32\")*5\n",
    "\n",
    "X_train = np.concatenate([X_train0_0,X_train0_1,X_train1,X_train2,X_train3,X_train4,X_train5,X_train6], axis=0)\n",
    "X_test = np.concatenate([X_test0_0,X_test0_1,X_test1,X_test2,X_test3,X_test4,X_test5,X_test6], axis=0)\n",
    "Y_train = np.concatenate([Y_train0_0,Y_train0_1,Y_train1,Y_train2,Y_train3,Y_train4,Y_train5,Y_train6], axis=0)\n",
    "Y_test = np.concatenate([Y_test0_0,Y_test0_1,Y_test1,Y_test2,Y_test3,Y_test4,Y_test5,Y_test6], axis=0)"
   ]
  },
  {
   "cell_type": "code",
   "execution_count": 3,
   "metadata": {},
   "outputs": [],
   "source": [
    "X_train = X_train.reshape(X_train.shape[0],X_train.shape[2],X_train.shape[3], X_train.shape[1])\n",
    "X_test = X_test.reshape(X_test.shape[0],X_test.shape[2],X_test.shape[3], X_test.shape[1])"
   ]
  },
  {
   "cell_type": "code",
   "execution_count": 4,
   "metadata": {},
   "outputs": [],
   "source": [
    "#Preprocess\n",
    "idx = np.arange(X_train.shape[0])\n",
    "np.random.shuffle(idx)\n",
    "X_train = X_train[idx]\n",
    "Y_train = Y_train[idx]\n",
    "\n",
    "idx = np.arange(X_test.shape[0])\n",
    "np.random.shuffle(idx)\n",
    "X_test = X_test[idx]\n",
    "Y_test = Y_test[idx]"
   ]
  },
  {
   "cell_type": "code",
   "execution_count": 5,
   "metadata": {},
   "outputs": [],
   "source": [
    "Y_train = tf.keras.utils.to_categorical(Y_train,6)\n",
    "Y_test = tf.keras.utils.to_categorical(Y_test,6)"
   ]
  },
  {
   "cell_type": "code",
   "execution_count": 6,
   "metadata": {},
   "outputs": [
    {
     "ename": "NameError",
     "evalue": "name 'X' is not defined",
     "output_type": "error",
     "traceback": [
      "\u001b[0;31m---------------------------------------------------------------------------\u001b[0m",
      "\u001b[0;31mNameError\u001b[0m                                 Traceback (most recent call last)",
      "\u001b[0;32m<ipython-input-6-6c87382ebd94>\u001b[0m in \u001b[0;36m<module>\u001b[0;34m\u001b[0m\n\u001b[0;32m----> 1\u001b[0;31m \u001b[0mres_net\u001b[0m \u001b[0;34m=\u001b[0m \u001b[0mtf\u001b[0m\u001b[0;34m.\u001b[0m\u001b[0mkeras\u001b[0m\u001b[0;34m.\u001b[0m\u001b[0mapplications\u001b[0m\u001b[0;34m.\u001b[0m\u001b[0mResNet50\u001b[0m\u001b[0;34m(\u001b[0m\u001b[0minput_shape\u001b[0m \u001b[0;34m=\u001b[0m \u001b[0;34m(\u001b[0m\u001b[0mX\u001b[0m\u001b[0;34m.\u001b[0m\u001b[0mshape\u001b[0m\u001b[0;34m[\u001b[0m\u001b[0;36m1\u001b[0m\u001b[0;34m:\u001b[0m\u001b[0;34m]\u001b[0m\u001b[0;34m)\u001b[0m\u001b[0;34m,\u001b[0m \u001b[0minclude_top\u001b[0m \u001b[0;34m=\u001b[0m \u001b[0;32mFalse\u001b[0m\u001b[0;34m)\u001b[0m\u001b[0;34m\u001b[0m\u001b[0;34m\u001b[0m\u001b[0m\n\u001b[0m\u001b[1;32m      2\u001b[0m \u001b[0mflat\u001b[0m \u001b[0;34m=\u001b[0m \u001b[0mtf\u001b[0m\u001b[0;34m.\u001b[0m\u001b[0mkeras\u001b[0m\u001b[0;34m.\u001b[0m\u001b[0mlayers\u001b[0m\u001b[0;34m.\u001b[0m\u001b[0mFlatten\u001b[0m\u001b[0;34m(\u001b[0m\u001b[0;34m)\u001b[0m\u001b[0;34m(\u001b[0m\u001b[0mres_net\u001b[0m\u001b[0;34m.\u001b[0m\u001b[0moutput\u001b[0m\u001b[0;34m)\u001b[0m\u001b[0;34m\u001b[0m\u001b[0;34m\u001b[0m\u001b[0m\n\u001b[1;32m      3\u001b[0m \u001b[0my_hat\u001b[0m \u001b[0;34m=\u001b[0m \u001b[0mtf\u001b[0m\u001b[0;34m.\u001b[0m\u001b[0mkeras\u001b[0m\u001b[0;34m.\u001b[0m\u001b[0mlayers\u001b[0m\u001b[0;34m.\u001b[0m\u001b[0mDense\u001b[0m\u001b[0;34m(\u001b[0m\u001b[0;36m6\u001b[0m\u001b[0;34m,\u001b[0m \u001b[0mactivation\u001b[0m \u001b[0;34m=\u001b[0m \u001b[0;34m\"softmax\"\u001b[0m\u001b[0;34m)\u001b[0m\u001b[0;34m(\u001b[0m\u001b[0mflat\u001b[0m\u001b[0;34m)\u001b[0m\u001b[0;34m\u001b[0m\u001b[0;34m\u001b[0m\u001b[0m\n\u001b[1;32m      4\u001b[0m \u001b[0mmodel\u001b[0m \u001b[0;34m=\u001b[0m \u001b[0mtf\u001b[0m\u001b[0;34m.\u001b[0m\u001b[0mkeras\u001b[0m\u001b[0;34m.\u001b[0m\u001b[0mmodels\u001b[0m\u001b[0;34m.\u001b[0m\u001b[0mModel\u001b[0m\u001b[0;34m(\u001b[0m\u001b[0mres_net\u001b[0m\u001b[0;34m.\u001b[0m\u001b[0minput\u001b[0m\u001b[0;34m,\u001b[0m \u001b[0my_hat\u001b[0m\u001b[0;34m)\u001b[0m\u001b[0;34m\u001b[0m\u001b[0;34m\u001b[0m\u001b[0m\n",
      "\u001b[0;31mNameError\u001b[0m: name 'X' is not defined"
     ]
    }
   ],
   "source": [
    "res_net = tf.keras.applications.ResNet50(input_shape = (X.shape[1:]), include_top = False)\n",
    "flat = tf.keras.layers.Flatten()(res_net.output)\n",
    "y_hat = tf.keras.layers.Dense(6, activation = \"softmax\")(flat)\n",
    "model = tf.keras.models.Model(res_net.input, y_hat)"
   ]
  },
  {
   "cell_type": "code",
   "execution_count": null,
   "metadata": {},
   "outputs": [],
   "source": [
    "model.compile(optimizer = \"adam\", loss = \"categorical_crossentropy\", metrics = [\"accuracy\"])"
   ]
  },
  {
   "cell_type": "code",
   "execution_count": null,
   "metadata": {},
   "outputs": [],
   "source": [
    "model.fit(X_train,Y_train, batch_size = 64, epochs = 60, validation_data=(X_test,Y_test))"
   ]
  },
  {
   "cell_type": "code",
   "execution_count": null,
   "metadata": {},
   "outputs": [],
   "source": [
    "training_predictions = np.argmax(model.predict(X_train),axis=1)\n",
    "validation_predictions = np.argmax(model.predict(X_test),axis=1)"
   ]
  },
  {
   "cell_type": "code",
   "execution_count": null,
   "metadata": {},
   "outputs": [],
   "source": [
    "training_labels = np.argmax(Y_train,axis=1)\n",
    "validation_labels = np.argmax(Y_test,axis=1)"
   ]
  },
  {
   "cell_type": "code",
   "execution_count": null,
   "metadata": {},
   "outputs": [],
   "source": [
    "def convert_to_index(array_categorical):\n",
    "    array_index = [np.argmax(array_temp) for array_temp in array_categorical]\n",
    "    print(np.unique(array_index))\n",
    "    return array_index\n",
    "\n",
    "def plot_confusion_matrix(cm, ax,\n",
    "                          normalize=False,\n",
    "                          title='Confusion matrix',\n",
    "                          cmap=plt.cm.Blues):\n",
    "    \"\"\"\n",
    "    This function modified to plots the ConfusionMatrix object.\n",
    "    Normalization can be applied by setting `normalize=True`.\n",
    "    \n",
    "    Code Reference : \n",
    "    http://scikit-learn.org/stable/auto_examples/model_selection/plot_confusion_matrix.html\n",
    "    \n",
    "    This script is derived from PyCM repository: https://github.com/sepandhaghighi/pycm\n",
    "    \n",
    "    \"\"\"\n",
    "\n",
    "    plt_cm = []\n",
    "    for i in cm.classes :\n",
    "        row=[]\n",
    "        for j in cm.classes:\n",
    "            row.append(cm.table[i][j])\n",
    "        plt_cm.append(row)\n",
    "    plt_cm = np.array(plt_cm)\n",
    "    if normalize:\n",
    "        plt_cm = plt_cm.astype('float') / plt_cm.sum(axis=1)[:, np.newaxis]     \n",
    "    ax.imshow(plt_cm, interpolation='nearest', cmap=cmap)\n",
    "    ax.set_title(title, fontsize=28)\n",
    "    #ax.colorbar()\n",
    "    tick_marks = np.arange(len(cm.classes))\n",
    "    ax.set_xticks(tick_marks)\n",
    "    ax.set_xticklabels([str(x) for x in cm.classes], fontsize=20)\n",
    "    ax.set_yticks(tick_marks)\n",
    "    ax.set_yticklabels([str(x) for x in cm.classes], fontsize=20)\n",
    "    \n",
    "\n",
    "    fmt = '.2f' if normalize else 'd'\n",
    "    thresh = plt_cm.max() / 2.\n",
    "    for i, j in itertools.product(range(plt_cm.shape[0]), range(plt_cm.shape[1])):\n",
    "        ax.text(j, i, format(plt_cm[i, j], fmt),\n",
    "                horizontalalignment=\"center\",\n",
    "                color=\"white\" if plt_cm[i, j] > thresh else \"black\",\n",
    "                fontsize=16)\n",
    "\n",
    "    \n",
    "    ax.set_ylabel('Actual', fontsize=24)\n",
    "    ax.set_xlabel('Predict', fontsize=24)\n",
    "    return ax\n",
    "\n",
    "def plot_heatmaps(training_predictions, validation_predictions, training_labels, validation_labels):\n",
    "    train_true_idx = training_labels\n",
    "    train_pred_idx = training_predictions\n",
    "    validation_true_idx = validation_labels\n",
    "    validation_pred_idx = validation_predictions\n",
    "    \n",
    "    fig, (ax1, ax2) = plt.subplots(1, 2, figsize=(20, 8))\n",
    "    \n",
    "    cm_train = ConfusionMatrix(train_true_idx, train_pred_idx)\n",
    "    ax1 = plot_confusion_matrix(cm_train, ax1, title=\"Training Data\")\n",
    "    \n",
    "    cm_validation = ConfusionMatrix(validation_true_idx, validation_pred_idx)\n",
    "    ax2 = plot_confusion_matrix(cm_validation, ax2, title=\"Validation Data\")\n",
    "    \n",
    "    fig.tight_layout()\n",
    "    fig.show()\n",
    "    \n",
    "    return"
   ]
  },
  {
   "cell_type": "code",
   "execution_count": null,
   "metadata": {},
   "outputs": [],
   "source": [
    "plot_heatmaps(training_predictions, validation_predictions, training_labels, validation_labels)"
   ]
  },
  {
   "cell_type": "code",
   "execution_count": null,
   "metadata": {},
   "outputs": [],
   "source": [
    "#fpr, tpr, _ = roc_curve(Y[val_idx:], pred)\n",
    "#roc_auc = auc(fpr, tpr)"
   ]
  },
  {
   "cell_type": "code",
   "execution_count": null,
   "metadata": {},
   "outputs": [],
   "source": [
    "#plt.figure()\n",
    "#lw = 2\n",
    "#plt.plot(fpr, tpr, color='darkorange',\n",
    "#         lw=lw, label='ROC curve (area = %0.2f)' % roc_auc)\n",
    "#plt.plot([0, 1], [0, 1], color='navy', lw=lw, linestyle='--')\n",
    "#plt.xlim([0.0, 1.0])\n",
    "#plt.ylim([0.0, 1.05])\n",
    "#plt.xlabel('False Positive Rate')\n",
    "#plt.ylabel('True Positive Rate')\n",
    "#plt.title('ROC')\n",
    "#plt.legend(loc=\"lower right\")\n",
    "#plt.show()"
   ]
  },
  {
   "cell_type": "code",
   "execution_count": null,
   "metadata": {},
   "outputs": [],
   "source": []
  }
 ],
 "metadata": {
  "kernelspec": {
   "display_name": "Python 3",
   "language": "python",
   "name": "python3"
  },
  "language_info": {
   "codemirror_mode": {
    "name": "ipython",
    "version": 3
   },
   "file_extension": ".py",
   "mimetype": "text/x-python",
   "name": "python",
   "nbconvert_exporter": "python",
   "pygments_lexer": "ipython3",
   "version": "3.7.6"
  }
 },
 "nbformat": 4,
 "nbformat_minor": 4
}
