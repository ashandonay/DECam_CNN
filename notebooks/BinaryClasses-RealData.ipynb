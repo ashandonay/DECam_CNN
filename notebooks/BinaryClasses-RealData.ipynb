{
 "cells": [
  {
   "cell_type": "code",
   "execution_count": 1,
   "metadata": {},
   "outputs": [],
   "source": [
    "import glob\n",
    "import h5py\n",
    "import itertools\n",
    "import matplotlib.pyplot as plt\n",
    "import numpy as np\n",
    "import pandas as pd\n",
    "from pycm import ConfusionMatrix\n",
    "from sklearn.model_selection import train_test_split\n",
    "from sklearn.metrics import accuracy_score\n",
    "import sys\n",
    "\n",
    "import torch\n",
    "import torch.nn as nn\n",
    "import torch.nn.functional as F\n",
    "import torch.utils.data as Data\n",
    "from torch.utils.data import Dataset, DataLoader\n",
    "from torch.utils.data import TensorDataset\n",
    "import torchvision\n",
    "import torchvision.models as models\n",
    "from torchvision import transforms\n",
    "from scipy import ndimage"
   ]
  },
  {
   "cell_type": "code",
   "execution_count": 2,
   "metadata": {},
   "outputs": [],
   "source": [
    "#class0 = good\n",
    "#class1 = marginal\n",
    "#class2 = other\n",
    "#class3 = bad subtraction\n",
    "#class4 = dark spot in template\n",
    "#class5 = noisy template\n",
    "#class6 = point source in template"
   ]
  },
  {
   "cell_type": "code",
   "execution_count": 3,
   "metadata": {},
   "outputs": [],
   "source": [
    "class ArtifactDataset(Dataset):\n",
    "    \"\"\"PyTorch Dataset of Artifact Images\"\"\"\n",
    "\n",
    "    def __init__(self, images, labels, transform=None):\n",
    "        self.images = images\n",
    "        self.labels = labels\n",
    "        self.transform = transform\n",
    "\n",
    "    def __len__(self):\n",
    "        return len(self.labels)\n",
    "\n",
    "    def __getitem__(self, idx):\n",
    "        if torch.is_tensor(idx):\n",
    "            idx = idx.tolist()\n",
    "\n",
    "        image = self.images[idx]\n",
    "        label = np.array(self.labels[idx])\n",
    "        \n",
    "        sample = {'image': image, 'label': label}\n",
    "\n",
    "        if self.transform:\n",
    "            sample = self.transform(sample)\n",
    "\n",
    "        return sample\n",
    "    \n",
    "class ToTensor(object):\n",
    "    \"\"\"Convert ndarrays in sample to Tensors.\"\"\"\n",
    "\n",
    "    def __call__(self, sample):\n",
    "        image_, label = sample['image'], sample['label']\n",
    "\n",
    "        scaled_array = (image_ - np.mean(image_,axis=(-1,-2),keepdims=True))/(10*np.std(image_,axis=(-1,-2),keepdims=True)) + 0.5\n",
    "        return {'image': torch.from_numpy(scaled_array).float(),\n",
    "                'label': torch.from_numpy(label)}"
   ]
  },
  {
   "cell_type": "code",
   "execution_count": 4,
   "metadata": {},
   "outputs": [],
   "source": [
    "def TrainTest(dataset, cut, stop, value):\n",
    "    \n",
    "    hf = h5py.File(dataset, 'r')\n",
    "    dataset_name = list(hf.keys())[0]\n",
    "    images = np.array(hf.get(dataset_name))\n",
    "    hf.close()\n",
    "    X_train, X_test = images[0:cut], images[cut:stop]\n",
    "    \n",
    "    train_images_90 = np.array([ndimage.rotate(x, angle=90.0,axes=(1,2)) for x in X_train])\n",
    "    train_images_180 = np.array([ndimage.rotate(x, angle=180.0,axes=(1,2)) for x in X_train])\n",
    "    train_images_270 = np.array([ndimage.rotate(x, angle=270.0,axes=(1,2)) for x in X_train])\n",
    "    \n",
    "    \n",
    "    test_images_90 = np.array([ndimage.rotate(x, angle=90.0,axes=(1,2)) for x in X_test])\n",
    "    test_images_180 = np.array([ndimage.rotate(x, angle=180.0,axes=(1,2)) for x in X_test])\n",
    "    test_images_270 = np.array([ndimage.rotate(x, angle=270.0,axes=(1,2)) for x in X_test])\n",
    "    \n",
    "    X_train = np.concatenate((X_train, train_images_90, train_images_180, train_images_270))\n",
    "    X_test = np.concatenate((X_train, train_images_90, train_images_180, train_images_270))\n",
    "\n",
    "    y_train, y_test = np.array([value] * len(X_train)), np.array([value] * len(X_test))\n",
    "    \n",
    "    del train_images_90,train_images_180,train_images_270\n",
    "    del test_images_90,test_images_180,test_images_270\n",
    "    \n",
    "    return X_train, X_test, y_train, y_test"
   ]
  },
  {
   "cell_type": "code",
   "execution_count": 5,
   "metadata": {},
   "outputs": [],
   "source": [
    "X_train0_0, X_test0_0, y_train0_0, y_test0_0 = TrainTest('TS__2020-06-25_18-02-56/Class_0_images.h5',60,80,0)\n",
    "X_train0_2, X_test0_2, y_train0_2, y_test0_2 = TrainTest('Real__20-07-11_21-31-43/s200224ca_images.h5',160,214,0)\n",
    "\n",
    "X_train0, X_test0 = np.concatenate((X_train0_0,X_train0_2)), np.concatenate((X_test0_0,X_test0_2))\n",
    "y_train0, y_test0 = np.concatenate((y_train0_0,y_train0_2)), np.concatenate((y_test0_0,y_test0_2))\n",
    "trainclass_0 = len(y_train0)\n",
    "testclass_0 = len(y_test0)\n",
    "\n",
    "X_train1, X_test1, y_train1, y_test1 = TrainTest('TS__2020-06-25_18-02-56/Class_1_images.h5',408,546,0)\n",
    "trainclass_1 = len(y_train1)\n",
    "testclass_1 = len(y_test1)\n",
    "\n",
    "X_train3, X_test3, y_train3, y_test3 = TrainTest('TS__2020-06-25_18-02-56/Class_3_images.h5',408,546,1)\n",
    "trainclass_3 = len(y_train3)\n",
    "testclass_3 = len(y_test3)\n",
    "\n",
    "X_train4, X_test4, y_train4, y_test4 = TrainTest('TS__2020-06-25_18-02-56/Class_4_images.h5',187,249,1)\n",
    "trainclass_4 = len(y_train4)\n",
    "testclass_4 = len(y_test4)\n",
    "\n",
    "X_train5, X_test5, y_train5, y_test5 = TrainTest('TS__2020-06-25_18-02-56/Class_5_images.h5',221,297,1)\n",
    "trainclass_5 = len(y_train5)\n",
    "testclass_5 = len(y_test5)\n",
    "\n",
    "X_train6, X_test6, y_train6, y_test6 = TrainTest('TS__2020-06-25_18-02-56/Class_6_images.h5',408,546,1)\n",
    "trainclass_6 = len(y_train6)\n",
    "testclass_6 = len(y_test6)"
   ]
  },
  {
   "cell_type": "code",
   "execution_count": 6,
   "metadata": {},
   "outputs": [],
   "source": [
    "X_train, X_test = np.concatenate((X_train0,X_train1,X_train3,X_train4,X_train5,X_train6)), np.concatenate((X_test0,X_test1,X_test3,X_test4,X_test5,X_test6))\n",
    "y_train, y_test = np.concatenate((y_train0,y_train1,y_train3,y_train4,y_train5,y_train6)), np.concatenate((y_test0,y_test1,y_test3,y_test4,y_test5,y_test6))"
   ]
  },
  {
   "cell_type": "code",
   "execution_count": 7,
   "metadata": {},
   "outputs": [],
   "source": [
    "del X_train0,X_train1,X_train3,X_train4,X_train5,X_train6\n",
    "del X_test0,X_test1,X_test3,X_test4,X_test5,X_test6\n",
    "del y_train0,y_train1,y_train3,y_train4,y_train5,y_train6\n",
    "del y_test0,y_test1,y_test3,y_test4,y_test5,y_test6"
   ]
  },
  {
   "cell_type": "code",
   "execution_count": 8,
   "metadata": {},
   "outputs": [
    {
     "name": "stdout",
     "output_type": "stream",
     "text": [
      "Class 0: 220 74\n",
      "Class 1: 408 138\n",
      "Class 3: 408 138\n",
      "Class 4: 187 62\n",
      "Class 5: 221 76\n",
      "Class 6: 408 138\n"
     ]
    }
   ],
   "source": [
    "print('Class 0:',trainclass_0,testclass_0)\n",
    "print('Class 1:',trainclass_1,testclass_1)\n",
    "print('Class 3:',trainclass_3,testclass_3)\n",
    "print('Class 4:',trainclass_4,testclass_4)\n",
    "print('Class 5:',trainclass_5,testclass_5)\n",
    "print('Class 6:',trainclass_6,testclass_6)"
   ]
  },
  {
   "cell_type": "code",
   "execution_count": 9,
   "metadata": {},
   "outputs": [],
   "source": [
    "train0 = trainclass_0\n",
    "train1 = trainclass_1 + train0\n",
    "train3 = trainclass_3 + train1\n",
    "train4 = trainclass_4 + train3\n",
    "train5 = trainclass_5 + train4\n",
    "train6 = trainclass_6 + train5"
   ]
  },
  {
   "cell_type": "code",
   "execution_count": 10,
   "metadata": {},
   "outputs": [],
   "source": [
    "test0 = testclass_0\n",
    "test1 = testclass_1 + test0\n",
    "test3 = testclass_3 + test1\n",
    "test4 = testclass_4 + test3\n",
    "test5 = testclass_5 + test4\n",
    "test6 = testclass_6 + test5"
   ]
  },
  {
   "cell_type": "code",
   "execution_count": 11,
   "metadata": {},
   "outputs": [],
   "source": [
    "del trainclass_0,trainclass_1,trainclass_3,trainclass_4,trainclass_5,trainclass_6\n",
    "del testclass_0,testclass_1,testclass_3,testclass_4,testclass_5,testclass_6"
   ]
  },
  {
   "cell_type": "code",
   "execution_count": 12,
   "metadata": {},
   "outputs": [],
   "source": [
    "train_idx = np.arange(X_train.shape[0])\n",
    "np.random.shuffle(train_idx)\n",
    "X_train = X_train[train_idx]\n",
    "y_train = y_train[train_idx]\n",
    "\n",
    "test_idx = np.arange(X_test.shape[0])\n",
    "np.random.shuffle(test_idx)\n",
    "X_test = X_test[test_idx]\n",
    "y_test = y_test[test_idx]"
   ]
  },
  {
   "cell_type": "code",
   "execution_count": 13,
   "metadata": {},
   "outputs": [],
   "source": [
    "def make_datasets(X_train, y_train, X_test, y_test, batch_size=20):\n",
    "    \n",
    "    train_dataset = ArtifactDataset(X_train, y_train, transform=ToTensor())\n",
    "    test_dataset = ArtifactDataset(X_test, y_test, transform=ToTensor())\n",
    "    train_dataloader = DataLoader(train_dataset, batch_size=batch_size, shuffle=True, num_workers=4)\n",
    "    \n",
    "    return train_dataset, test_dataset, train_dataloader"
   ]
  },
  {
   "cell_type": "code",
   "execution_count": 14,
   "metadata": {},
   "outputs": [],
   "source": [
    "train_dataset, test_dataset, train_dataloader = make_datasets(X_train, y_train, X_test, y_test)"
   ]
  },
  {
   "cell_type": "code",
   "execution_count": 15,
   "metadata": {},
   "outputs": [],
   "source": [
    "train_size = len(y_train)\n",
    "validation_size = len(y_test)"
   ]
  },
  {
   "cell_type": "code",
   "execution_count": 16,
   "metadata": {},
   "outputs": [],
   "source": [
    "del X_train,y_train,X_test,y_test"
   ]
  },
  {
   "cell_type": "code",
   "execution_count": 17,
   "metadata": {},
   "outputs": [],
   "source": [
    "class CNN(nn.Module):\n",
    "    def __init__(self):\n",
    "        super(CNN, self).__init__()\n",
    "        \n",
    "        #Network Components\n",
    "        self.conv1 = nn.Conv2d(in_channels=3, \n",
    "                               out_channels=32, \n",
    "                               kernel_size=4, \n",
    "                               stride=1,\n",
    "                               padding=2)\n",
    "        \n",
    "        self.conv2 = nn.Conv2d(in_channels=32, \n",
    "                               out_channels=64,\n",
    "                               kernel_size=2, \n",
    "                               stride=1,\n",
    "                               padding=2)\n",
    "        \n",
    "        self.dropout1 = nn.Dropout2d(0.25)\n",
    "        \n",
    "        self.dropout2 = nn.Dropout2d(0.5)\n",
    "        \n",
    "        self.fc1 = nn.Linear(in_features=46656, \n",
    "                             out_features=128)\n",
    "        \n",
    "        self.fc2 = nn.Linear(in_features=128, \n",
    "                             out_features=2)\n",
    "        \n",
    "    def forward(self, x):\n",
    "        #Network Flow\n",
    "        x = self.conv1(x)\n",
    "        x = F.relu(x)\n",
    "        x = self.conv2(x)\n",
    "        x = F.max_pool2d(x, kernel_size=2)\n",
    "        x = self.dropout1(x)\n",
    "        x = torch.flatten(x, 1)\n",
    "        x = self.fc1(x)\n",
    "        x = F.relu(x)\n",
    "        x = self.dropout2(x)\n",
    "        x = self.fc2(x)\n",
    "        output = F.log_softmax(x, dim=1)\n",
    "        return output\n",
    "\n",
    "cnn = CNN()"
   ]
  },
  {
   "cell_type": "code",
   "execution_count": 18,
   "metadata": {},
   "outputs": [],
   "source": [
    "loss_function = nn.CrossEntropyLoss()\n",
    "learning_rate = 0.001\n",
    "optimizer = torch.optim.Adam(cnn.parameters(), lr=learning_rate)\n",
    "number_of_training_epochs = 40"
   ]
  },
  {
   "cell_type": "code",
   "execution_count": 19,
   "metadata": {},
   "outputs": [
    {
     "name": "stdout",
     "output_type": "stream",
     "text": [
      "Epoch: 1 Step: 0  | Training Accuracy: 0.6609071274298056 -- Validation Accuracy: 0.6613418530351438\n",
      "Epoch: 2 Step: 0  | Training Accuracy: 0.6598272138228942 -- Validation Accuracy: 0.646964856230032\n",
      "Epoch: 3 Step: 0  | Training Accuracy: 0.6312095032397408 -- Validation Accuracy: 0.6006389776357828\n",
      "Epoch: 4 Step: 0  | Training Accuracy: 0.6614470842332614 -- Validation Accuracy: 0.6517571884984026\n",
      "Epoch: 5 Step: 0  | Training Accuracy: 0.6641468682505399 -- Validation Accuracy: 0.6565495207667732\n",
      "Epoch: 6 Step: 0  | Training Accuracy: 0.6684665226781857 -- Validation Accuracy: 0.6645367412140575\n",
      "Epoch: 7 Step: 0  | Training Accuracy: 0.6943844492440605 -- Validation Accuracy: 0.646964856230032\n",
      "Epoch: 8 Step: 0  | Training Accuracy: 0.6603671706263499 -- Validation Accuracy: 0.6533546325878594\n",
      "Epoch: 9 Step: 0  | Training Accuracy: 0.693304535637149 -- Validation Accuracy: 0.6853035143769968\n",
      "Epoch: 10 Step: 0  | Training Accuracy: 0.7311015118790497 -- Validation Accuracy: 0.6884984025559105\n",
      "Epoch: 11 Step: 0  | Training Accuracy: 0.7208423326133909 -- Validation Accuracy: 0.6693290734824281\n",
      "Epoch: 12 Step: 0  | Training Accuracy: 0.7300215982721382 -- Validation Accuracy: 0.6964856230031949\n",
      "Epoch: 13 Step: 0  | Training Accuracy: 0.7386609071274298 -- Validation Accuracy: 0.7012779552715654\n",
      "Epoch: 14 Step: 0  | Training Accuracy: 0.7176025917926566 -- Validation Accuracy: 0.7108626198083067\n",
      "Epoch: 15 Step: 0  | Training Accuracy: 0.7543196544276458 -- Validation Accuracy: 0.6980830670926518\n",
      "Epoch: 16 Step: 0  | Training Accuracy: 0.7359611231101512 -- Validation Accuracy: 0.7156549520766773\n",
      "Epoch: 17 Step: 0  | Training Accuracy: 0.7640388768898488 -- Validation Accuracy: 0.7028753993610224\n",
      "Epoch: 18 Step: 0  | Training Accuracy: 0.7634989200863931 -- Validation Accuracy: 0.7140575079872205\n",
      "Epoch: 19 Step: 0  | Training Accuracy: 0.771598272138229 -- Validation Accuracy: 0.7204472843450479\n",
      "Epoch: 20 Step: 0  | Training Accuracy: 0.7645788336933045 -- Validation Accuracy: 0.7172523961661342\n",
      "Epoch: 21 Step: 0  | Training Accuracy: 0.7931965442764579 -- Validation Accuracy: 0.7172523961661342\n",
      "Epoch: 22 Step: 0  | Training Accuracy: 0.7796976241900648 -- Validation Accuracy: 0.7172523961661342\n",
      "Epoch: 23 Step: 0  | Training Accuracy: 0.7904967602591793 -- Validation Accuracy: 0.7092651757188498\n",
      "Epoch: 24 Step: 0  | Training Accuracy: 0.7996760259179265 -- Validation Accuracy: 0.7156549520766773\n",
      "Epoch: 25 Step: 0  | Training Accuracy: 0.8077753779697624 -- Validation Accuracy: 0.731629392971246\n",
      "Epoch: 26 Step: 0  | Training Accuracy: 0.8034557235421166 -- Validation Accuracy: 0.7188498402555911\n",
      "Epoch: 27 Step: 0  | Training Accuracy: 0.816414686825054 -- Validation Accuracy: 0.7156549520766773\n",
      "Epoch: 28 Step: 0  | Training Accuracy: 0.8056155507559395 -- Validation Accuracy: 0.7188498402555911\n",
      "Epoch: 29 Step: 0  | Training Accuracy: 0.8342332613390929 -- Validation Accuracy: 0.7092651757188498\n",
      "Epoch: 30 Step: 0  | Training Accuracy: 0.8029157667386609 -- Validation Accuracy: 0.7028753993610224\n",
      "Epoch: 31 Step: 0  | Training Accuracy: 0.8174946004319654 -- Validation Accuracy: 0.7044728434504792\n",
      "Epoch: 32 Step: 0  | Training Accuracy: 0.8520518358531317 -- Validation Accuracy: 0.7188498402555911\n",
      "Epoch: 33 Step: 0  | Training Accuracy: 0.8569114470842333 -- Validation Accuracy: 0.7172523961661342\n",
      "Epoch: 34 Step: 0  | Training Accuracy: 0.8596112311015118 -- Validation Accuracy: 0.7348242811501597\n",
      "Epoch: 35 Step: 0  | Training Accuracy: 0.8434125269978402 -- Validation Accuracy: 0.6916932907348243\n",
      "Epoch: 36 Step: 0  | Training Accuracy: 0.8569114470842333 -- Validation Accuracy: 0.7092651757188498\n",
      "Epoch: 37 Step: 0  | Training Accuracy: 0.8822894168466523 -- Validation Accuracy: 0.6884984025559105\n",
      "Epoch: 38 Step: 0  | Training Accuracy: 0.8876889848812095 -- Validation Accuracy: 0.731629392971246\n",
      "Epoch: 39 Step: 0  | Training Accuracy: 0.8974082073434125 -- Validation Accuracy: 0.7204472843450479\n",
      "Epoch: 40 Step: 0  | Training Accuracy: 0.8876889848812095 -- Validation Accuracy: 0.7380191693290735\n"
     ]
    }
   ],
   "source": [
    "# Append some lists as we go to track the accuracies and loss\n",
    "indices, losses, train_acc, validation_acc = [], [], [], []\n",
    "index_counter = 0\n",
    "\n",
    "\n",
    "for epoch in range(number_of_training_epochs):\n",
    "    \n",
    "    for step, batch_data in enumerate(train_dataloader):\n",
    "        \n",
    "        #Clear out all existing gradients on the loss surface to reevaluate for this step\n",
    "        optimizer.zero_grad()\n",
    "        \n",
    "        #Get the CNN's current prediction of the training data\n",
    "        output = cnn(batch_data['image'])\n",
    "        \n",
    "        #Calculate the loss by comparing the prediction to the truth\n",
    "        loss = loss_function(output, batch_data['label']) \n",
    "        \n",
    "        #Evaluate all gradients along the loss surface using back propagation\n",
    "        loss.backward()\n",
    "        \n",
    "        #Based on the gradients, take the optimal step in the weight space\n",
    "        optimizer.step()\n",
    "            \n",
    "        \n",
    "        #Every so often, let's print out the accuracy\n",
    "        if step % 100 == 0:\n",
    "            \n",
    "            #Evaluate the network's predictions\n",
    "            train_output = cnn(train_dataset[0:train_size]['image'])\n",
    "            validation_output = cnn(test_dataset[0:validation_size]['image'])\n",
    "            \n",
    "            train_predictions = torch.max(train_output, 1)[1].data.numpy()\n",
    "            validation_predictions = torch.max(validation_output, 1)[1].data.numpy()\n",
    "            \n",
    "            #Calculate accuracy\n",
    "            train_accuracy = np.sum(train_predictions == train_dataset[0:train_size]['label'].numpy()) / train_size\n",
    "            validation_accuracy = np.sum(validation_predictions == test_dataset[0:validation_size]['label'].numpy()) / validation_size\n",
    "            \n",
    "            print(\"Epoch: {0} Step: {1}  | Training Accuracy: {2} -- Validation Accuracy: {3}\".format(epoch + 1, step, train_accuracy, validation_accuracy))\n",
    "            \n",
    "            #save results to list for diagnostic plots\n",
    "            indices.append(index_counter)\n",
    "            losses.append(loss.data.numpy())\n",
    "            train_acc.append(train_accuracy)\n",
    "            validation_acc.append(validation_accuracy)\n",
    "            index_counter += 1\n",
    "            \n",
    "            \n",
    "#Evaluate the network's predictions\n",
    "train_output = cnn(train_dataset[0:train_size]['image'])\n",
    "validation_output = cnn(test_dataset[0:validation_size]['image'])\n",
    "\n",
    "train_predictions = torch.max(train_output, 1)[1].data.numpy()\n",
    "validation_predictions = torch.max(validation_output, 1)[1].data.numpy()\n",
    "\n",
    "#Calculate accuracy\n",
    "train_accuracy = np.sum(train_predictions == train_dataset[0:train_size]['label'].numpy()) / train_size\n",
    "validation_accuracy = np.sum(validation_predictions == test_dataset[0:validation_size]['label'].numpy()) / validation_size\n",
    "            "
   ]
  },
  {
   "cell_type": "code",
   "execution_count": 20,
   "metadata": {},
   "outputs": [],
   "source": [
    "predictions = validation_predictions"
   ]
  },
  {
   "cell_type": "code",
   "execution_count": 21,
   "metadata": {},
   "outputs": [],
   "source": [
    "pred_class0 = predictions[np.where(test_idx <= test0)]\n",
    "pred_class1 = predictions[np.where((test0 < test_idx) & (test_idx <= test1))]\n",
    "pred_class3 = predictions[np.where((test1 < test_idx) & (test_idx <= test3))]\n",
    "pred_class4 = predictions[np.where((test3 < test_idx) & (test_idx <= test5))]\n",
    "#pred_class5 = predictions[np.where((test4 < test_idx) & (test_idx <= test5))]\n",
    "pred_class6 = predictions[np.where((test5 < test_idx) & (test_idx <= test6))]"
   ]
  },
  {
   "cell_type": "code",
   "execution_count": 22,
   "metadata": {},
   "outputs": [],
   "source": [
    "pred0_class0 = (pred_class0 == 0).sum()\n",
    "pred1_class0 = (pred_class0 == 1).sum()\n",
    "\n",
    "pred0_class1 = (pred_class1 == 0).sum()\n",
    "pred1_class1 = (pred_class1 == 1).sum()\n",
    "\n",
    "pred0_class3 = (pred_class3 == 0).sum()\n",
    "pred1_class3 = (pred_class3 == 1).sum()\n",
    "\n",
    "pred0_class4 = (pred_class4 == 0).sum()\n",
    "pred1_class4 = (pred_class4 == 1).sum()\n",
    "\n",
    "#pred0_class5 = (pred_class5 == 0).sum()\n",
    "#pred1_class5 = (pred_class5 == 1).sum()\n",
    "\n",
    "pred0_class6 = (pred_class6 == 0).sum()\n",
    "pred1_class6 = (pred_class6 == 1).sum()"
   ]
  },
  {
   "cell_type": "code",
   "execution_count": 23,
   "metadata": {},
   "outputs": [
    {
     "data": {
      "image/png": "[encoded data removed]",
      "text/plain": [
       "<Figure size 720x576 with 1 Axes>"
      ]
     },
     "metadata": {
      "needs_background": "light"
     },
     "output_type": "display_data"
    }
   ],
   "source": [
    "cm = np.array([[pred0_class0,pred0_class1,pred0_class3,pred0_class4,pred0_class6],\n",
    "               [pred1_class0,pred1_class1,pred1_class3,pred1_class4,pred1_class6]])\n",
    "\n",
    "classes = ['Good','Marginal','Bad Sub','Dark Spot + Noisy','Point Source']\n",
    "labels = ['Good/Marginal','Not Marginal']\n",
    "\n",
    "fig, ax = plt.subplots(1,1,figsize=(10, 8))\n",
    "\n",
    "ax.imshow(cm, cmap=plt.cm.Blues)\n",
    "ax.set_xlabel(\"Class\", fontsize=20)\n",
    "ax.set_ylabel(\"Predictions\", fontsize=20)\n",
    "ax.set_xticks(np.arange(len(classes)))\n",
    "ax.set_yticks(np.arange(len(labels)))\n",
    "ax.set_xticklabels(classes, fontsize=12)\n",
    "ax.set_yticklabels(labels, fontsize=12)\n",
    "ax.axhline(0.5, linestyle='-', color='k', linewidth='3')\n",
    "ax.axvline(1.5, linestyle='-', color='k', linewidth='3')\n",
    "\n",
    "for i in range(len(labels)):\n",
    "    for j in range(len(classes)):\n",
    "        text = ax.text(j, i, cm[i, j],\n",
    "                       ha=\"center\", va=\"center\", fontsize=12)\n",
    "\n",
    "ax.set_title('Predictions (binary) For Each Class', fontsize=22)\n",
    "fig.tight_layout()\n",
    "plt.savefig('realdata_perclassmatrix.png')"
   ]
  },
  {
   "cell_type": "code",
   "execution_count": 24,
   "metadata": {},
   "outputs": [],
   "source": [
    "def plot_loss_and_accuracy(indices, losses, train_acc, validation_acc, number_of_training_epochs):\n",
    "    fig, (ax1) = plt.subplots(1, 1)\n",
    "    \n",
    "    #fit = np.poly1d(np.polyfit(indices, losses, 50))(indices)\n",
    "    #ax1.plot(indices, losses, color='darkgreen', alpha=0.3)\n",
    "    #ax1.plot(indices, fit, color='darkgreen', lw=2)\n",
    "    #ax1.set_xlabel(\"Training Step\", fontsize=22)\n",
    "    #ax1.set_ylabel(\"Categorical Cross Entropy Loss\", fontsize=22)\n",
    "    #for ii in range(number_of_training_epochs):\n",
    "    #    xval = (ii + 1) / number_of_training_epochs * np.max(indices)\n",
    "    #    xval1 = (ii + 3) / number_of_training_epochs * np.max(indices)\n",
    "    #    ax1.axvline(x=xval, ls='--', color='black')\n",
    "    #    ax1.text(xval1 - number_of_training_epochs, 0.9, \"{0}\".format(ii + 1), horizontalalignment='right', fontsize=18)\n",
    "    #ax1.set_ylim(0.0, 1.0)\n",
    "\n",
    "    train_fit = np.poly1d(np.polyfit(indices, train_acc, 50))(indices)\n",
    "    validation_fit = np.poly1d(np.polyfit(indices, validation_acc, 50))(indices)\n",
    "    ax1.plot(indices, train_acc, alpha=0.3, color='C0')\n",
    "    ax1.plot(indices, validation_acc, alpha=0.3, color='C1')\n",
    "    ax1.plot(indices, train_fit, lw=2, color='C0', label=\"Training Data\")\n",
    "    ax1.plot(indices, validation_fit, lw=2, color='C1', label=\"Validation Data\")\n",
    "    ax1.legend(loc='lower right')\n",
    "    ax1.set_xlabel(\"Training Step\")\n",
    "    ax1.set_ylabel(\"Accuracy\")\n",
    "    ax1.set_title('Model Accuracy')\n",
    "    ax1.set_ylim(0.5,1.0)\n",
    "    #for ii in range(number_of_training_epochs):\n",
    "    #    xval = (ii + 1) / number_of_training_epochs * np.max(indices)\n",
    "    #    xval1 = (ii + 3) / number_of_training_epochs * np.max(indices)\n",
    "    #    ax2.axvline(x=xval, ls='--', color='black')\n",
    "    #    ax2.text(xval1 - number_of_training_epochs, 0.82, \"{0}\".format(ii + 1), horizontalalignment='right', fontsize=18)\n",
    "    #ax2.set_ylim(0.3, 1.0)\n",
    "\n",
    "    fig.tight_layout()\n",
    "    fig.show()\n",
    "    return     "
   ]
  },
  {
   "cell_type": "code",
   "execution_count": 25,
   "metadata": {},
   "outputs": [
    {
     "name": "stderr",
     "output_type": "stream",
     "text": [
      "/home/ashandonay/miniconda3/envs/ml_astro/lib/python3.7/site-packages/ipykernel_launcher.py:1: RankWarning: Polyfit may be poorly conditioned\n",
      "  \"\"\"Entry point for launching an IPython kernel.\n",
      "/home/ashandonay/miniconda3/envs/ml_astro/lib/python3.7/site-packages/ipykernel_launcher.py:1: RankWarning: Polyfit may be poorly conditioned\n",
      "  \"\"\"Entry point for launching an IPython kernel.\n"
     ]
    },
    {
     "data": {
      "image/png": "[encoded data removed]",
      "text/plain": [
       "<Figure size 432x288 with 1 Axes>"
      ]
     },
     "metadata": {
      "needs_background": "light"
     },
     "output_type": "display_data"
    }
   ],
   "source": [
    "plot_loss_and_accuracy(indices, losses, train_acc, validation_acc, number_of_training_epochs)\n",
    "plt.savefig('realdata_twoclass.png')"
   ]
  }
 ],
 "metadata": {
  "kernelspec": {
   "display_name": "Python 3",
   "language": "python",
   "name": "python3"
  },
  "language_info": {
   "codemirror_mode": {
    "name": "ipython",
    "version": 3
   },
   "file_extension": ".py",
   "mimetype": "text/x-python",
   "name": "python",
   "nbconvert_exporter": "python",
   "pygments_lexer": "ipython3",
   "version": "3.7.6"
  }
 },
 "nbformat": 4,
 "nbformat_minor": 4
}
